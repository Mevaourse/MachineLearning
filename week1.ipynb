{
 "cells": [
  {
   "cell_type": "code",
   "execution_count": null,
   "id": "d756ff63-12a0-4039-8af7-99d94e38a30f",
   "metadata": {},
   "outputs": [],
   "source": []
  },
  {
   "cell_type": "code",
   "execution_count": 1,
   "id": "a76003f7-fafb-4071-a84b-cb943db3d8a8",
   "metadata": {},
   "outputs": [
    {
     "name": "stdout",
     "output_type": "stream",
     "text": [
      "Hello World\n"
     ]
    }
   ],
   "source": [
    "print(\"Hello World\")\n"
   ]
  },
  {
   "cell_type": "code",
   "execution_count": 2,
   "id": "24bb9ab0-0c40-4b09-ac87-e1c38598acc4",
   "metadata": {},
   "outputs": [
    {
     "name": "stdout",
     "output_type": "stream",
     "text": [
      "testq\n"
     ]
    }
   ],
   "source": [
    "print (\"testq\")\n"
   ]
  },
  {
   "cell_type": "code",
   "execution_count": 5,
   "id": "94cea783-b24a-4a0b-830d-fc0fbd65956c",
   "metadata": {},
   "outputs": [
    {
     "name": "stdout",
     "output_type": "stream",
     "text": [
      "Hello, pythonn!\n",
      "Abu\n",
      "Abu\n"
     ]
    }
   ],
   "source": [
    "print (\"Hello, pythonn!\")\n",
    "print (\"Abu\")\n",
    "print (\"Abu\")"
   ]
  },
  {
   "cell_type": "code",
   "execution_count": 9,
   "id": "58c54bdf-9fb0-4592-b594-40f2d3a11f60",
   "metadata": {},
   "outputs": [
    {
     "name": "stdout",
     "output_type": "stream",
     "text": [
      "\n",
      "Saya sudah sarapan tadi pagi\n",
      " dan nanti siang makan lagi\n",
      "Saya sudah sarapan tadi pagi\t dan nanti siang makan lagi\n"
     ]
    }
   ],
   "source": [
    "print ()\n",
    "print (\"Saya sudah sarapan tadi pagi\\n dan nanti siang makan lagi\")\n",
    "\n",
    "print (\"Saya sudah sarapan tadi pagi\\t dan nanti siang makan lagi\")\n"
   ]
  },
  {
   "cell_type": "code",
   "execution_count": 12,
   "id": "c9b97d3e-e8f2-4447-8632-09e7120361b7",
   "metadata": {},
   "outputs": [
    {
     "name": "stdout",
     "output_type": "stream",
     "text": [
      "Nama saya \"Daniel \"\n"
     ]
    }
   ],
   "source": [
    "print (\"Nama saya \\\"Daniel \\\"\")\n"
   ]
  },
  {
   "cell_type": "code",
   "execution_count": 13,
   "id": "bca29382-bc93-4105-8f97-9d752e3b45b4",
   "metadata": {},
   "outputs": [
    {
     "name": "stdout",
     "output_type": "stream",
     "text": [
      "\"\n"
     ]
    }
   ],
   "source": [
    "print (\"\\\"\")\n"
   ]
  },
  {
   "cell_type": "code",
   "execution_count": 14,
   "id": "78b6d9cf-5a72-42d7-bf17-31a4f8db70a9",
   "metadata": {},
   "outputs": [
    {
     "name": "stdout",
     "output_type": "stream",
     "text": [
      "Nama saya Daniel "
     ]
    }
   ],
   "source": [
    "print (\"Nama saya\", \"Daniel\", end=\" \")"
   ]
  },
  {
   "cell_type": "code",
   "execution_count": 15,
   "id": "2ddd3632-588f-48dd-b244-331a1e8ea41c",
   "metadata": {},
   "outputs": [
    {
     "name": "stdout",
     "output_type": "stream",
     "text": [
      " Programming***Essentials***in..."
     ]
    }
   ],
   "source": [
    "print (\" Programming\",\"Essentials\",\"in\", sep=\"***\", end=\"...\")"
   ]
  },
  {
   "cell_type": "code",
   "execution_count": 16,
   "id": "3d6d124a-bc45-4c07-baff-8c5009bbe312",
   "metadata": {},
   "outputs": [
    {
     "name": "stdout",
     "output_type": "stream",
     "text": [
      "    *\n",
      "   * *\n",
      "  *   *\n",
      " *     *\n",
      "***   ***\n",
      "  *   *\n",
      "  *   *\n",
      "  *****\n",
      "    *\n",
      "   * *\n",
      "  *   *\n",
      " *     *\n",
      "***   ***\n",
      "  *   *\n",
      "  *   *\n",
      "  *****\n",
      "\n"
     ]
    }
   ],
   "source": [
    "print(\"    *\\n   * *\\n  *   *\\n *     *\\n***   ***\\n  *   *\\n  *   *\\n  *****\\n\"*2)\n"
   ]
  },
  {
   "cell_type": "code",
   "execution_count": 17,
   "id": "192ecf6a-8827-4fbe-a0e1-8f6ec81e0c91",
   "metadata": {},
   "outputs": [
    {
     "name": "stdout",
     "output_type": "stream",
     "text": [
      "I'm Monty Python\n"
     ]
    }
   ],
   "source": [
    "print (\"I'm Monty Python\")\n"
   ]
  },
  {
   "cell_type": "code",
   "execution_count": 19,
   "id": "456f14ac-ea80-44f7-91a6-0951c5cf2fe5",
   "metadata": {},
   "outputs": [
    {
     "name": "stdout",
     "output_type": "stream",
     "text": [
      "True\n",
      "False\n",
      "True\n",
      "False\n"
     ]
    }
   ],
   "source": [
    "print (True)\n",
    "print (False)\n",
    "\n",
    "print (4>2)\n",
    "print (3>4)\n"
   ]
  },
  {
   "cell_type": "code",
   "execution_count": 20,
   "id": "3e66cff6-e2da-4394-93cd-e893990695b1",
   "metadata": {},
   "outputs": [
    {
     "name": "stdout",
     "output_type": "stream",
     "text": [
      "\"I'm\"\n",
      "\"\"learning\"\"\n",
      "\"\"\"Python\"\"\"\n",
      "\n",
      "\"I'm\"\n",
      "\"\"learning\"\"\n",
      "\"\"\"Python\"\"\"\n",
      "\n"
     ]
    }
   ],
   "source": [
    "print('\"I\\'m\"\\n\"\"learning\"\"\\n\"\"\"Python\"\"\"')\n",
    "\n",
    "print(\"\"\"\n",
    "\"I'm\"\n",
    "\"\"learning\"\"\n",
    "\\\"\"\"Python\"\"\\\"\n",
    "\"\"\")"
   ]
  },
  {
   "cell_type": "code",
   "execution_count": 21,
   "id": "9c4121f6-14d7-46a5-8922-bf41b073e3d6",
   "metadata": {},
   "outputs": [
    {
     "name": "stdout",
     "output_type": "stream",
     "text": [
      "8\n",
      "8.0\n",
      "8.0\n",
      "8.0\n"
     ]
    }
   ],
   "source": [
    "print(2 ** 3)\n",
    "print(2 ** 3.)\n",
    "print(2. ** 3.)\n",
    "print(2. ** 3)"
   ]
  },
  {
   "cell_type": "code",
   "execution_count": 22,
   "id": "240b28ae-0f7b-4d7c-bd5a-71652edc8a44",
   "metadata": {},
   "outputs": [],
   "source": [
    "Darjo = 2\n",
    "Darno = 5\n",
    "Waginem = 6"
   ]
  },
  {
   "cell_type": "code",
   "execution_count": 23,
   "id": "ee031c8d-b903-4117-a566-88e5e161239f",
   "metadata": {},
   "outputs": [
    {
     "name": "stdout",
     "output_type": "stream",
     "text": [
      "7.38 1 mil adalah 11.88 kilometer\n",
      "12.25 1 kilometer adalah 7.61 mil\n"
     ]
    }
   ],
   "source": [
    "kilometer = 12.25\n",
    "mil = 7.38\n",
    "\n",
    "miles_to_kilometers = mil * 1.61\n",
    "kilometers_to_miles = kilometer / 1.61\n",
    "\n",
    "print(mil, \"1 mil adalah\", round(miles_to_kilometers, 2), \"kilometer\")\n",
    "print(kilometer, \"1 kilometer adalah\", round(kilometers_to_miles, 2), \"mil\")"
   ]
  },
  {
   "cell_type": "code",
   "execution_count": 29,
   "id": "4e0bb20b-6a7c-4c1c-bbba-4f2a93922abe",
   "metadata": {},
   "outputs": [
    {
     "name": "stdout",
     "output_type": "stream",
     "text": [
      "1 kg adalah  1000 gram\n",
      "1 gram adalah  0.001 kilogram\n"
     ]
    }
   ],
   "source": [
    "kg = 1\n",
    "gram = 1 \n",
    "\n",
    "kg_to_gram = kg * 1000\n",
    "gram_to_kg = gram / 1000\n",
    "\n",
    "print(\"1 kg adalah \", round(kg_to_gram,2),\"gram\")\n",
    "print(\"1 gram adalah \", round(gram_to_kg,4),\"kilogram\")"
   ]
  },
  {
   "cell_type": "code",
   "execution_count": null,
   "id": "6ac4035a-8d71-49eb-a578-0d28f51eaae2",
   "metadata": {},
   "outputs": [],
   "source": []
  },
  {
   "cell_type": "code",
   "execution_count": null,
   "id": "9c45cdac-be82-4af5-9a56-366b1b42205e",
   "metadata": {},
   "outputs": [],
   "source": []
  }
 ],
 "metadata": {
  "kernelspec": {
   "display_name": "Python 3 (ipykernel)",
   "language": "python",
   "name": "python3"
  },
  "language_info": {
   "codemirror_mode": {
    "name": "ipython",
    "version": 3
   },
   "file_extension": ".py",
   "mimetype": "text/x-python",
   "name": "python",
   "nbconvert_exporter": "python",
   "pygments_lexer": "ipython3",
   "version": "3.12.3"
  }
 },
 "nbformat": 4,
 "nbformat_minor": 5
}
