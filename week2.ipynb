{
 "cells": [
  {
   "cell_type": "code",
   "execution_count": 1,
   "id": "5de38d92-022a-4148-a804-6186ff724bd5",
   "metadata": {},
   "outputs": [
    {
     "name": "stdin",
     "output_type": "stream",
     "text": [
      "Masukan bilangan bulat:  2\n"
     ]
    },
    {
     "name": "stdout",
     "output_type": "stream",
     "text": [
      "genap\n"
     ]
    }
   ],
   "source": [
    "bil = int(input(\"Masukan bilangan bulat: \"))\n",
    "\n",
    "if(bil%2 == 0):\n",
    "    print(\"genap\")\n",
    "else:\n",
    "    print(\"ganjil\")"
   ]
  },
  {
   "cell_type": "code",
   "execution_count": 2,
   "id": "c30dc147-3bf4-4a44-ab7d-5cf375c5442d",
   "metadata": {},
   "outputs": [
    {
     "name": "stdout",
     "output_type": "stream",
     "text": [
      "Masukan nilai koordinat\n"
     ]
    },
    {
     "name": "stdin",
     "output_type": "stream",
     "text": [
      "Nilai x:  3\n",
      "Nilai y:  -1\n"
     ]
    },
    {
     "name": "stdout",
     "output_type": "stream",
     "text": [
      "Koordinat (3,-1) berada pada Kuadran IV\n"
     ]
    }
   ],
   "source": [
    "print(\"Masukan nilai koordinat\")\n",
    "x = int(input(\"Nilai x: \"))\n",
    "y = int(input(\"Nilai y: \"))\n",
    "\n",
    "if x>0 and y>0:\n",
    "    print(\"Koordinat (\"+ str(x) + \",\"+ str(y) +\") berada pada Kuadran I\" )\n",
    "elif x<0 and y>0:\n",
    "    print(\"Koordinat (\"+ str(x) + \",\"+ str(y) +\") berada pada Kuadran II\" )    \n",
    "elif x<0 and y<0:\n",
    "    print(\"Koordinat (\"+ str(x) + \",\"+ str(y) +\") berada pada Kuadran III\" )\n",
    "elif x>0 and y<0:\n",
    "    print(\"Koordinat (\"+ str(x) + \",\"+ str(y) +\") berada pada Kuadran IV\" )\n",
    "else:\n",
    "    pass"
   ]
  },
  {
   "cell_type": "code",
   "execution_count": null,
   "id": "949edf16-663c-4e2c-81a3-52b691880684",
   "metadata": {},
   "outputs": [],
   "source": [
    "bila ingin langsung input dan taruh print di belakang\n"
   ]
  },
  {
   "cell_type": "code",
   "execution_count": 9,
   "id": "dd5b1f1d-7c09-4750-89ab-a8393e67cb9f",
   "metadata": {},
   "outputs": [
    {
     "name": "stdin",
     "output_type": "stream",
     "text": [
      "First Number 23\n"
     ]
    }
   ],
   "source": [
    "num1 =(input(\"First Number\"))"
   ]
  },
  {
   "cell_type": "code",
   "execution_count": null,
   "id": "42a71344-6707-4659-8943-2f28f6ec1765",
   "metadata": {},
   "outputs": [],
   "source": [
    "Bila ingin number di depan"
   ]
  },
  {
   "cell_type": "code",
   "execution_count": 8,
   "id": "70a783df-931b-4c26-8fe4-788c331e7dc2",
   "metadata": {},
   "outputs": [
    {
     "name": "stdin",
     "output_type": "stream",
     "text": [
      " 2\n"
     ]
    },
    {
     "name": "stdout",
     "output_type": "stream",
     "text": [
      "First Number\n"
     ]
    }
   ],
   "source": [
    "num1 = input()\n",
    "print(\"First Number\")\n"
   ]
  },
  {
   "cell_type": "code",
   "execution_count": 11,
   "id": "e8aa23a3-4ee0-45df-91d8-cf82ffa8ee19",
   "metadata": {},
   "outputs": [
    {
     "name": "stdout",
     "output_type": "stream",
     "text": [
      "Operasi aritmatika menggunakan statement\n"
     ]
    }
   ],
   "source": [
    "print (\"Operasi aritmatika menggunakan statement\")"
   ]
  },
  {
   "cell_type": "code",
   "execution_count": null,
   "id": "4b50be83-3d90-4723-8bbf-ae083727747c",
   "metadata": {},
   "outputs": [],
   "source": [
    "x = int(input(\"nomer 1\"))\n",
    "y= int (input(\"nomer 2\"))\n",
    "z= int (input(\"nomer 3\"))\n",
    "\n",
    "\n"
   ]
  },
  {
   "cell_type": "code",
   "execution_count": null,
   "id": "e199f472-4a01-4231-82b8-637a1a0aeab2",
   "metadata": {},
   "outputs": [],
   "source": []
  }
 ],
 "metadata": {
  "kernelspec": {
   "display_name": "Python 3 (ipykernel)",
   "language": "python",
   "name": "python3"
  },
  "language_info": {
   "codemirror_mode": {
    "name": "ipython",
    "version": 3
   },
   "file_extension": ".py",
   "mimetype": "text/x-python",
   "name": "python",
   "nbconvert_exporter": "python",
   "pygments_lexer": "ipython3",
   "version": "3.12.3"
  }
 },
 "nbformat": 4,
 "nbformat_minor": 5
}
